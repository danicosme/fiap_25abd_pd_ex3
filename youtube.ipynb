{
 "cells": [
  {
   "cell_type": "code",
   "execution_count": 226,
   "metadata": {},
   "outputs": [],
   "source": [
    "from pyspark.sql import HiveContext\n",
    "from pyspark.sql.functions import from_json, col\n",
    "import pyspark.sql.functions as F\n",
    "from pyspark.sql.types import *\n",
    "from pyspark.sql.functions import *\n",
    "from pyspark.sql.window import Window"
   ]
  },
  {
   "cell_type": "code",
   "execution_count": 227,
   "metadata": {},
   "outputs": [],
   "source": [
    "#Carregando categorias\n",
    "df_category = spark.read.option(\"multiline\", \"true\").format(\"json\").load(\"../../datasets/youtube/BR_category_id.json\")"
   ]
  },
  {
   "cell_type": "code",
   "execution_count": 228,
   "metadata": {},
   "outputs": [],
   "source": [
    "#Parse das categorias\n",
    "df_category = df_category_br.select(\n",
    "    F.explode('items').alias('categoria')\n",
    ").select(\n",
    "    'categoria.id',\n",
    "    'categoria.snippet.title'\n",
    ")\n",
    "\n",
    "df_category = df_category.withColumnRenamed(\"id\", \"category_id\")\n",
    "df_category = df_category.withColumnRenamed(\"title\", \"category_title\")"
   ]
  },
  {
   "cell_type": "code",
   "execution_count": 229,
   "metadata": {},
   "outputs": [],
   "source": [
    "#Carregando dados de trending de vídeos\n",
    "df_br = spark.read.options(header='True', delimiter=',').csv(\"../../datasets/youtube/BR_youtube_trending_data.csv\", header=True)\n",
    "df_br = df_br.withColumn(\"country\", lit(str(\"BR\")))\n",
    "\n",
    "df_ca = spark.read.options(header='True', delimiter=',').csv(\"../../datasets/youtube/CA_youtube_trending_data.csv\", header=True)\n",
    "df_ca = df_ca.withColumn(\"country\", lit(str(\"CA\")))\n",
    "\n",
    "df_de = spark.read.options(header='True', delimiter=',').csv(\"../../datasets/youtube/DE_youtube_trending_data.csv\", header=True)\n",
    "df_de = df_de.withColumn(\"country\", lit(str(\"DE\")))\n",
    "\n",
    "df_fr = spark.read.options(header='True', delimiter=',').csv(\"../../datasets/youtube/FR_youtube_trending_data.csv\", header=True)\n",
    "df_fr = df_fr.withColumn(\"country\", lit(str(\"FR\")))\n",
    "\n",
    "df_gb = spark.read.options(header='True', delimiter=',').csv(\"../../datasets/youtube/GB_youtube_trending_data.csv\", header=True)\n",
    "df_gb = df_gb.withColumn(\"country\", lit(str(\"GB\")))\n",
    "\n",
    "df_in = spark.read.options(header='True', delimiter=',').csv(\"../../datasets/youtube/IN_youtube_trending_data.csv\", header=True)\n",
    "df_in = df_in.withColumn(\"country\", lit(str(\"IN\")))\n",
    "\n",
    "df_jp = spark.read.options(header='True', delimiter=',').csv(\"../../datasets/youtube/JP_youtube_trending_data.csv\", header=True)\n",
    "df_jp = df_jp.withColumn(\"country\", lit(str(\"JP\")))\n",
    "\n",
    "df_kr = spark.read.options(header='True', delimiter=',').csv(\"../../datasets/youtube/KR_youtube_trending_data.csv\", header=True)\n",
    "df_kr = df_kr.withColumn(\"country\", lit(str(\"KR\")))\n",
    "\n",
    "df_mx = spark.read.options(header='True', delimiter=',').csv(\"../../datasets/youtube/MX_youtube_trending_data.csv\", header=True)\n",
    "df_mx = df_mx.withColumn(\"country\", lit(str(\"MX\")))\n",
    "\n",
    "df_ru = spark.read.options(header='True', delimiter=',').csv(\"../../datasets/youtube/RU_youtube_trending_data.csv\", header=True)\n",
    "df_ru = df_ru.withColumn(\"country\", lit(str(\"RU\")))\n",
    "\n",
    "df_us = spark.read.options(header='True', delimiter=',').csv(\"../../datasets/youtube/US_youtube_trending_data.csv\", header=True)\n",
    "df_us = df_us.withColumn(\"country\", lit(str(\"US\")))"
   ]
  },
  {
   "cell_type": "code",
   "execution_count": 230,
   "metadata": {},
   "outputs": [],
   "source": [
    "df_final = df_br \\\n",
    "            .union(df_ca) \\\n",
    "            .union(df_de) \\\n",
    "            .union(df_fr) \\\n",
    "            .union(df_gb) \\\n",
    "            .union(df_in) \\\n",
    "            .union(df_jp) \\\n",
    "            .union(df_kr) \\\n",
    "            .union(df_mx) \\\n",
    "            .union(df_ru) \\\n",
    "            .union(df_us) "
   ]
  },
  {
   "cell_type": "code",
   "execution_count": 231,
   "metadata": {},
   "outputs": [],
   "source": [
    "#Foi necessário fazer o join antes para contornar os dados de description que quebram o csv por \n",
    "#conta de \"vírgulas\" no meio do texto\n",
    "df_final = df_final.join(df_category, df_final.categoryId ==  df_category.category_id, \"inner\")"
   ]
  },
  {
   "cell_type": "code",
   "execution_count": 232,
   "metadata": {},
   "outputs": [],
   "source": [
    "#Dataframe agrupado por país/categoria gerando agregações de:\n",
    "#soma de likes\n",
    "#soma de dislikes\n",
    "#soma de views\n",
    "#soma de comments\n",
    "#média de likes\n",
    "#média de dislikes\n",
    "#média de views\n",
    "#média de comments\n",
    "df_final_country = df_final.groupBy(\"country\", \"categoryId\") \\\n",
    "                    .agg(F.sum(\"likes\").cast(LongType()).alias(\"sum_likes\"), \\\n",
    "                         F.sum(\"dislikes\").cast(LongType()).alias(\"sum_dislikes\"), \\\n",
    "                         F.sum(\"view_count\").cast(LongType()).alias(\"sum_views\"), \\\n",
    "                         F.sum(\"comment_count\").cast(LongType()).alias(\"sum_comments\"), \\\n",
    "                         F.avg(\"likes\").cast(DecimalType(18, 2)).alias(\"avg_likes\"), \\\n",
    "                         F.avg(\"dislikes\").cast(DecimalType(18, 2)).alias(\"avg_dislikes\"), \\\n",
    "                         F.avg(\"view_count\").cast(DecimalType(18, 2)).alias(\"avg_views\"), \\\n",
    "                         F.avg(\"comment_count\").cast(DecimalType(18, 2)).alias(\"avg_comments\") \\\n",
    "                        )"
   ]
  },
  {
   "cell_type": "code",
   "execution_count": 234,
   "metadata": {},
   "outputs": [],
   "source": [
    "#Dataframe agrupado por categoria gerando agregações de:\n",
    "#soma de likes\n",
    "#soma de dislikes\n",
    "#soma de views\n",
    "#soma de comments\n",
    "#média de likes\n",
    "#média de dislikes\n",
    "#média de views\n",
    "#média de comments\n",
    "df_final_category = df_final.groupBy(\"categoryId\") \\\n",
    "                    .agg(F.sum(\"likes\").cast(LongType()).alias(\"sum_likes\"), \\\n",
    "                         F.sum(\"dislikes\").cast(LongType()).alias(\"sum_dislikes\"), \\\n",
    "                         F.sum(\"view_count\").cast(LongType()).alias(\"sum_views\"), \\\n",
    "                         F.sum(\"comment_count\").cast(LongType()).alias(\"sum_comments\"), \\\n",
    "                         F.avg(\"likes\").cast(DecimalType(18, 2)).alias(\"avg_likes\"), \\\n",
    "                         F.avg(\"dislikes\").cast(DecimalType(18, 2)).alias(\"avg_dislikes\"), \\\n",
    "                         F.avg(\"view_count\").cast(DecimalType(18, 2)).alias(\"avg_views\"), \\\n",
    "                         F.avg(\"comment_count\").cast(DecimalType(18, 2)).alias(\"avg_comments\") \\\n",
    "                        )"
   ]
  },
  {
   "cell_type": "code",
   "execution_count": 245,
   "metadata": {
    "scrolled": true
   },
   "outputs": [
    {
     "name": "stdout",
     "output_type": "stream",
     "text": [
      "+-------+----------+-----------+------------+------------+------------+---------+------------+----------+------------+-----------+--------------------+----------+-------------+----------+-------------+\n",
      "|country|categoryId|  sum_likes|sum_dislikes|   sum_views|sum_comments|avg_likes|avg_dislikes| avg_views|avg_comments|category_id|      category_title|rank_likes|rank_deslikes|rank_views|rank_comments|\n",
      "+-------+----------+-----------+------------+------------+------------+---------+------------+----------+------------+-----------+--------------------+----------+-------------+----------+-------------+\n",
      "|     BR|         2|   59416676|      249514|   669363479|     3045887| 32917.83|      138.23| 370838.49|     1687.47|          2|    Autos & Vehicles|        11|           11|        11|            8|\n",
      "|     BR|        17| 1061212997|     8264539| 23310260034|    53151238| 37972.34|      295.72| 834088.10|     1901.86|         17|              Sports|         5|            7|         6|            4|\n",
      "|     BR|        25|   70254590|     1528764|  2208735310|     9061950| 22589.90|      491.56| 710204.28|     2913.81|         25|     News & Politics|        10|           10|        10|            9|\n",
      "|     BR|        20| 1763799616|    14402294| 30709089741|    82495207| 61317.56|      500.69|1067585.25|     2867.90|         20|              Gaming|         4|            7|         6|            6|\n",
      "|     BR|        22| 1775891474|    22898820| 20817579872|    69085850| 67707.17|      873.03| 793685.61|     2634.75|         22|      People & Blogs|         3|            7|         8|            9|\n",
      "|     BR|        26|   59005027|      814557|   826117397|     2328045| 38092.34|      525.86| 533323.05|     1502.93|         26|       Howto & Style|        12|           11|        11|           11|\n",
      "|     BR|        23|  720332193|    10409764|  7624209512|    20112759| 82606.90|     1193.78| 874335.95|     2306.51|         23|              Comedy|         6|            8|        11|           11|\n",
      "|     BR|        24| 4239233083|    41255107| 57090498077|   190701739| 85166.21|      828.82|1146948.29|     3831.20|         24|       Entertainment|         2|            7|         9|            8|\n",
      "|     BR|        28|  191030420|     3738658|  5143093934|     7006139| 77971.60|     1525.98|2099222.01|     2859.65|         28|Science & Technology|         7|            6|         6|            8|\n",
      "|     BR|         1|  148157343|     1233210|  3588853652|     8925136| 66797.72|      556.00|1618058.45|     4023.96|          1|    Film & Animation|         8|           10|        11|           10|\n",
      "|     BR|        19|   27767731|      116768|   339826207|     1810881| 32939.18|      138.51| 403115.31|     2148.14|         19|     Travel & Events|        13|            9|        11|            9|\n",
      "|     BR|        27|   70645292|      636332|  1831181631|     2662850| 27791.22|      250.33| 720370.43|     1047.54|         27|           Education|         9|            9|         8|            9|\n",
      "|     BR|        15|   12940755|      144826|   144758170|      277959| 44933.18|      502.87| 502632.53|      965.14|         15|      Pets & Animals|        14|            8|         9|            8|\n",
      "|     BR|        10|10092422306|    99601624|151856713316|  1055974434|221904.14|     2189.96|3338904.45|    23217.92|         10|               Music|         1|            4|         2|            3|\n",
      "|     CA|        15|   69684847|      565397|  1442804170|     3160598| 68184.78|      553.23|1411745.76|     3092.56|         15|      Pets & Animals|        14|            2|         3|            3|\n",
      "|     CA|        17|  977703594|    14736807| 39101842034|    74850044| 40312.69|      607.63|1612247.64|     3086.22|         17|              Sports|         6|            2|         3|            3|\n",
      "|     CA|        27|  542132390|     4245548| 10014210883|    28316395| 91160.65|      713.90|1683909.68|     4761.46|         27|           Education|         9|            2|         1|            1|\n",
      "|     CA|        24| 6153700243|    68153016|119464203389|   327696201|144283.71|     1597.96|2801036.42|     7683.38|         24|       Entertainment|         2|            2|         3|            2|\n",
      "|     CA|        26|  444740067|     9322070|  9414330170|    23427538| 69209.47|     1450.68|1465037.37|     3645.74|         26|       Howto & Style|        10|            1|         1|            2|\n",
      "|     CA|        28|  691469660|     9732095| 16742472935|    37924814| 98965.17|     1392.89|2396231.99|     5427.91|         28|Science & Technology|         8|            2|         2|            2|\n",
      "+-------+----------+-----------+------------+------------+------------+---------+------------+----------+------------+-----------+--------------------+----------+-------------+----------+-------------+\n",
      "only showing top 20 rows\n",
      "\n"
     ]
    }
   ],
   "source": [
    "#Top categorias por indicadores por país\n",
    "df_final_country = df_final_country.join(df_category, df_final.categoryId ==  df_category.category_id, \"inner\")\n",
    "\n",
    "ranked_country =  df_final_country \\\n",
    "            .withColumn(\"rank_likes\", rank().over(Window.partitionBy(\"country\").orderBy(desc(\"sum_likes\")))) \\\n",
    "            .withColumn(\"rank_deslikes\", rank().over(Window.partitionBy(\"categoryId\").orderBy(desc(\"sum_dislikes\")))) \\\n",
    "            .withColumn(\"rank_views\", rank().over(Window.partitionBy(\"categoryId\").orderBy(desc(\"sum_views\")))) \\\n",
    "            .withColumn(\"rank_comments\", rank().over(Window.partitionBy(\"categoryId\").orderBy(desc(\"sum_comments\")))) \\\n",
    "        .orderBy(\"country\").show()"
   ]
  },
  {
   "cell_type": "code",
   "execution_count": 244,
   "metadata": {},
   "outputs": [
    {
     "name": "stdout",
     "output_type": "stream",
     "text": [
      "+----------+-----------+------------+-------------+------------+---------+------------+----------+------------+-----------+--------------------+---------+----------+-------------+----------+-------------+\n",
      "|categoryId|  sum_likes|sum_dislikes|    sum_views|sum_comments|avg_likes|avg_dislikes| avg_views|avg_comments|category_id|      category_title|partition|rank_likes|rank_deslikes|rank_views|rank_comments|\n",
      "+----------+-----------+------------+-------------+------------+---------+------------+----------+------------+-----------+--------------------+---------+----------+-------------+----------+-------------+\n",
      "|         1| 4444587252|    51766427| 119790344916|   295354712| 66022.78|      768.97|1779443.32|     4387.39|          1|    Film & Animation| category|         8|            9|         7|            7|\n",
      "|        10|88655442133|   965307858|1362665473798|  9947521943|264311.73|     2877.91|4062564.77|    29657.18|         10|               Music| category|         1|            1|         1|            1|\n",
      "|        15|  378849345|     3033000|  11245909209|    20766624| 30508.08|      244.24| 905613.56|     1672.30|         15|      Pets & Animals| category|        14|           14|        14|           14|\n",
      "|        17| 7386511674|    99844984| 278544169260|   533915547| 32430.26|      438.37|1222940.08|     2344.14|         17|              Sports| category|         6|            6|         5|            5|\n",
      "|        19|  662512579|     5389719|  14123335882|    37653647| 38969.04|      317.02| 830735.60|     2214.79|         19|     Travel & Events| category|        13|           13|        13|           13|\n",
      "|         2| 1462318115|    17586064|  29488171537|    98076953| 30548.33|      367.38| 616018.12|     2048.86|          2|    Autos & Vehicles| category|        12|           12|        12|           12|\n",
      "|        20|21648681850|   209948776| 379306705103|  1372952851| 73633.97|      714.10|1290141.31|     4669.84|         20|              Gaming| category|         3|            4|         3|            3|\n",
      "|        22|19990004297|   276086284| 343268905521|   969666346| 76979.67|     1063.18|1321897.06|     3734.21|         22|      People & Blogs| category|         4|            3|         4|            4|\n",
      "|        23|12256629107|   151389732| 189835038601|   493373932| 99779.62|     1232.44|1545422.30|     4016.49|         23|              Comedy| category|         5|            5|         6|            6|\n",
      "|        24|51121217828|   696088009|1002766441540|  2705420782| 90782.75|     1236.14|1780745.78|     4804.38|         24|       Entertainment| category|         2|            2|         2|            2|\n",
      "|        25| 1581392364|    60456412|  84305133999|   258877938| 18406.48|      703.68| 981262.11|     3013.19|         25|     News & Politics| category|        11|            8|         9|            8|\n",
      "|        26| 2658723630|    47729468|  55815770024|   129150075| 41230.11|      740.16| 865562.07|     2002.89|         26|       Howto & Style| category|        10|           10|        10|           11|\n",
      "|        27| 2685264981|    24563099|  54025287592|   135026396| 63937.93|      584.86|1286377.63|     3215.07|         27|           Education| category|         9|           11|        11|           10|\n",
      "|        28| 4507847430|    74517994| 101803974512|   244412043| 87599.06|     1448.08|1978312.76|     4749.55|         28|Science & Technology| category|         7|            7|         8|            9|\n",
      "+----------+-----------+------------+-------------+------------+---------+------------+----------+------------+-----------+--------------------+---------+----------+-------------+----------+-------------+\n",
      "\n"
     ]
    }
   ],
   "source": [
    "#Top indicadores por categorias\n",
    "df_final_category = df_final_category.join(df_category, df_final.categoryId ==  df_category.category_id, \"inner\")\n",
    "\n",
    "ranked_category =  df_final_category \\\n",
    "            .withColumn(\"partition\", lit(\"category\"))\n",
    "            \n",
    "ranked_category = ranked_category.withColumn(\"rank_likes\", rank().over(Window.partitionBy(\"partition\").orderBy(desc(\"sum_likes\")))) \\\n",
    "             .withColumn(\"rank_deslikes\", rank().over(Window.partitionBy(\"partition\").orderBy(desc(\"sum_dislikes\")))) \\\n",
    "             .withColumn(\"rank_views\", rank().over(Window.partitionBy(\"partition\").orderBy(desc(\"sum_views\")))) \\\n",
    "             .withColumn(\"rank_comments\", rank().over(Window.partitionBy(\"partition\").orderBy(desc(\"sum_comments\")))) \\\n",
    "         .orderBy(\"categoryId\").show()"
   ]
  }
 ],
 "metadata": {
  "kernelspec": {
   "display_name": "PySpark",
   "language": "python",
   "name": "pyspark"
  },
  "language_info": {
   "codemirror_mode": {
    "name": "ipython",
    "version": 3
   },
   "file_extension": ".py",
   "mimetype": "text/x-python",
   "name": "python",
   "nbconvert_exporter": "python",
   "pygments_lexer": "ipython3",
   "version": "3.6.10"
  }
 },
 "nbformat": 4,
 "nbformat_minor": 2
}
