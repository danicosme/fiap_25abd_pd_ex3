{
 "cells": [
  {
   "cell_type": "code",
   "execution_count": 41,
   "metadata": {},
   "outputs": [],
   "source": [
    "from pyspark.sql import HiveContext\n",
    "import pyspark.sql.functions as F\n",
    "from pyspark.sql.types import StructType, StructField, StringType, BooleanType, ArrayType, MapType"
   ]
  },
  {
   "cell_type": "markdown",
   "metadata": {},
   "source": [
    "## DataFrame de vídeos em alta por país"
   ]
  },
  {
   "cell_type": "markdown",
   "metadata": {},
   "source": [
    "#### Lendo todos os arquivos csv"
   ]
  },
  {
   "cell_type": "code",
   "execution_count": 120,
   "metadata": {},
   "outputs": [],
   "source": [
    "df_paises = spark.read.csv('/datasets/youtube/*.csv', header=True)"
   ]
  },
  {
   "cell_type": "markdown",
   "metadata": {},
   "source": [
    "#### Criando uma coluna para classificar os vídeos em alta por país, baseado no nome do arquivo"
   ]
  },
  {
   "cell_type": "code",
   "execution_count": 121,
   "metadata": {},
   "outputs": [],
   "source": [
    "df_paises = df_paises.withColumn('country', F.regexp_extract(F.input_file_name(), r\"/([^/]+)_youtube_trending_data\\.csv$\", 1))"
   ]
  },
  {
   "cell_type": "code",
   "execution_count": 122,
   "metadata": {},
   "outputs": [
    {
     "data": {
      "text/plain": [
       "[Row(video_id='s9FH4rDMvds', title='LEVEI UM FORA? FINGI ESTAR APAIXONADO POR ELA!', publishedAt='2020-08-11T22:21:49Z', channelId='UCGfBwrCoi9ZJjKiUK8MmJNw', channelTitle='Pietro Guedes', categoryId='22', trending_date='2020-08-12T00:00:00Z', tags='pietro|guedes|ingrid|ohara|pingrid|vlog|amigos|jully|molina|mansão|mansao|dos|youtubers|gkhouse', view_count='263835', likes='85095', dislikes='487', comment_count='4500', thumbnail_link='https://i.ytimg.com/vi/s9FH4rDMvds/default.jpg', comments_disabled='False', ratings_disabled='False', description='Salve rapaziada, neste vídeo me declarei pra ela e me surpreendi com a resposta! Espero que gostem! =)MINHAS REDES- Instagram: https://www.instagram.com/190pietro/?hl=pt-br- TikTok: https://www.tiktok.com/@190pietro?lang=pt_BR - Twitter: https://mobile.twitter.com/ttdo190►CANAIS DOS PARTICIPANTES E PLAYLIST TODOS VÍDEOS DA CASA:Playlist ➜ https://www.youtube.com/playlist?list=PLrT75fWIkg088N2Q_h1Hw5Lq-j9YWxAOCCanais: ➜ Gregory Kessey: https://www.youtube.com/GregoryKessey➜Peixinho: https://www.youtube.com/Peixe➜Ingrid ohara: https://www.youtube.com/IngridOharaTV ➜Vivi Wanderley: https://www.youtube.com/ViviWanderley➜Luiza Parente: https://www.youtube.com/channel/UCRKMoImiahCNu833HVQVhBA➜190 Pietro: https://www.youtube.com/channel/UCGfBwrCoi9ZJjKiUK8MmJNw➜João Caetano: https://www.youtube.com/JoãoCaetanoyoutuber➜Jully Molinna: https://www.youtube.com/jullymolinnablog➜Bya Kessey: https://www.instagram.com/ByaKessey', country='BR'),\n",
       " Row(video_id='jbGRowa5tIk', title='ITZY “Not Shy” M/V TEASER', publishedAt='2020-08-11T15:00:13Z', channelId='UCaO6TYtlC8U5ttz62hTrZgg', channelTitle='JYP Entertainment', categoryId='10', trending_date='2020-08-12T00:00:00Z', tags='JYP Entertainment|JYP|ITZY|있지|ITZY Video|ITZY Yeji|ITZY Lia|ITZY Ryujin|ITZY Chaeryeong|ITZY Yuna|있지 예지|있지 리아|있지 류진|있지 채령|있지 유나|예지|리아|류진|채령|유나|Yeji|Lia|Ryujin|Chaeryeong|Yuna|ITZY BEHIND|ITZY VIDEOS|ITZY DEBUT|있지 데뷔|not shy|ITZY not shy|ITZY TEASER|있지 티저|not shy 티저|있지 뮤비 티저|not shy 뮤비 티저|ITZY MV TEASER|ITZY MV|M/V|TEASER|있지 컴백|ITZY COMEBACK|not shy MV|낫샤이 뮤비|낫샤이|not shy opening trailer|opening trailer', view_count='6000070', likes='714310', dislikes='15176', comment_count='31040', thumbnail_link='https://i.ytimg.com/vi/jbGRowa5tIk/default.jpg', comments_disabled='False', ratings_disabled='False', description='ITZY Not Shy M/V[ITZY Official] https://www.youtube.com/c/ITZYhttps://www.instagram.com/itzy.all.in.us/http://www.twitter.com/ITZYOfficialhttp://www.facebook.com/OfficialITZYhttp://ITZY.jype.comhttp://fans.jype.com/ITZY#ITZY #NotShy #ITZY_NotShyCopyrights 2020 ⓒ JYP Entertainment. All Rights Reserved', country='BR')]"
      ]
     },
     "execution_count": 122,
     "metadata": {},
     "output_type": "execute_result"
    }
   ],
   "source": [
    "df_paises.head(2)"
   ]
  },
  {
   "cell_type": "markdown",
   "metadata": {},
   "source": [
    "## DataFrame de categorias de vídeo"
   ]
  },
  {
   "cell_type": "markdown",
   "metadata": {},
   "source": [
    "#### Lendo todos os arquivos json"
   ]
  },
  {
   "cell_type": "code",
   "execution_count": 124,
   "metadata": {},
   "outputs": [],
   "source": [
    "df_category = spark.read.json('/datasets/youtube/*.json', multiLine=True)"
   ]
  },
  {
   "cell_type": "markdown",
   "metadata": {},
   "source": [
    "#### Criando uma coluna para classificar as categorias por país, baseado no nome do arquivo"
   ]
  },
  {
   "cell_type": "code",
   "execution_count": 125,
   "metadata": {},
   "outputs": [],
   "source": [
    "df_category = df_category.withColumn(\"country\", F.regexp_extract(F.input_file_name(), r\"/([^/]+)_category_id\\.json$\", 1))#F.input_file_name())"
   ]
  },
  {
   "cell_type": "markdown",
   "metadata": {},
   "source": [
    "#### Parseando coluna json items"
   ]
  },
  {
   "cell_type": "code",
   "execution_count": 126,
   "metadata": {},
   "outputs": [],
   "source": [
    "schema = ArrayType(StringType())\n",
    "\n",
    "df_category = (df_category\n",
    "               .withColumn('items', F.explode('items'))   \n",
    "               .withColumn('item_etag', F.col(\"items\").getItem('etag'))\n",
    "               .withColumn('categoryId', F.col(\"items\").getItem('id'))\n",
    "               .withColumn('snippet', F.col(\"items\").getItem('snippet'))\n",
    "               .withColumn('snippet', F.col(\"items\").getItem('snippet'))\n",
    "               .withColumn('title', F.col(\"snippet\").getItem('title'))\n",
    "               .withColumn('assignable', F.col(\"snippet\").getItem('assignable'))\n",
    "               .withColumn('channelId', F.col(\"snippet\").getItem('channelId'))\n",
    "               .select([\n",
    "                   F.col('kind'),\n",
    "                   F.col('etag'),\n",
    "                   F.col('item_etag'),\n",
    "                   F.col('categoryId'), \n",
    "                   F.col('title'), \n",
    "                   F.col('assignable'), \n",
    "                   F.col('channelId'),\n",
    "                   F.col('country')\n",
    "               ])\n",
    "              )         "
   ]
  },
  {
   "cell_type": "code",
   "execution_count": 127,
   "metadata": {},
   "outputs": [
    {
     "data": {
      "text/plain": [
       "[Row(kind='youtube#videoCategoryListResponse', etag='HIrK3n45Uw2IYz9_U2-gK1OsXvo', item_etag='IfWa37JGcqZs-jZeAyFGkbeh6bc', categoryId='1', title='Film & Animation', assignable=True, channelId='UCBR8-60-B28hp2BmDPdntcQ', country='US'),\n",
       " Row(kind='youtube#videoCategoryListResponse', etag='HIrK3n45Uw2IYz9_U2-gK1OsXvo', item_etag='5XGylIs7zkjHh5940dsT5862m1Y', categoryId='2', title='Autos & Vehicles', assignable=True, channelId='UCBR8-60-B28hp2BmDPdntcQ', country='US')]"
      ]
     },
     "execution_count": 127,
     "metadata": {},
     "output_type": "execute_result"
    }
   ],
   "source": [
    "df_category.head(2)"
   ]
  },
  {
   "cell_type": "markdown",
   "metadata": {},
   "source": [
    "## DataFrame final de vídeos em alta e categoria"
   ]
  },
  {
   "cell_type": "code",
   "execution_count": 128,
   "metadata": {},
   "outputs": [],
   "source": [
    "df = df_paises.join(df_category, on=['categoryId','country'])"
   ]
  },
  {
   "cell_type": "code",
   "execution_count": 129,
   "metadata": {},
   "outputs": [
    {
     "data": {
      "text/plain": [
       "[Row(categoryId='22', country='BR', video_id='s9FH4rDMvds', title='LEVEI UM FORA? FINGI ESTAR APAIXONADO POR ELA!', publishedAt='2020-08-11T22:21:49Z', channelId='UCGfBwrCoi9ZJjKiUK8MmJNw', channelTitle='Pietro Guedes', trending_date='2020-08-12T00:00:00Z', tags='pietro|guedes|ingrid|ohara|pingrid|vlog|amigos|jully|molina|mansão|mansao|dos|youtubers|gkhouse', view_count='263835', likes='85095', dislikes='487', comment_count='4500', thumbnail_link='https://i.ytimg.com/vi/s9FH4rDMvds/default.jpg', comments_disabled='False', ratings_disabled='False', description='Salve rapaziada, neste vídeo me declarei pra ela e me surpreendi com a resposta! Espero que gostem! =)MINHAS REDES- Instagram: https://www.instagram.com/190pietro/?hl=pt-br- TikTok: https://www.tiktok.com/@190pietro?lang=pt_BR - Twitter: https://mobile.twitter.com/ttdo190►CANAIS DOS PARTICIPANTES E PLAYLIST TODOS VÍDEOS DA CASA:Playlist ➜ https://www.youtube.com/playlist?list=PLrT75fWIkg088N2Q_h1Hw5Lq-j9YWxAOCCanais: ➜ Gregory Kessey: https://www.youtube.com/GregoryKessey➜Peixinho: https://www.youtube.com/Peixe➜Ingrid ohara: https://www.youtube.com/IngridOharaTV ➜Vivi Wanderley: https://www.youtube.com/ViviWanderley➜Luiza Parente: https://www.youtube.com/channel/UCRKMoImiahCNu833HVQVhBA➜190 Pietro: https://www.youtube.com/channel/UCGfBwrCoi9ZJjKiUK8MmJNw➜João Caetano: https://www.youtube.com/JoãoCaetanoyoutuber➜Jully Molinna: https://www.youtube.com/jullymolinnablog➜Bya Kessey: https://www.instagram.com/ByaKessey', kind='youtube#videoCategoryListResponse', etag='kBCr3I9kLHHU79W4Ip5196LDptI', item_etag='QMEBz6mxVdklVaq8JwesPEw_4nI', title='People & Blogs', assignable=True, channelId='UCBR8-60-B28hp2BmDPdntcQ'),\n",
       " Row(categoryId='10', country='BR', video_id='jbGRowa5tIk', title='ITZY “Not Shy” M/V TEASER', publishedAt='2020-08-11T15:00:13Z', channelId='UCaO6TYtlC8U5ttz62hTrZgg', channelTitle='JYP Entertainment', trending_date='2020-08-12T00:00:00Z', tags='JYP Entertainment|JYP|ITZY|있지|ITZY Video|ITZY Yeji|ITZY Lia|ITZY Ryujin|ITZY Chaeryeong|ITZY Yuna|있지 예지|있지 리아|있지 류진|있지 채령|있지 유나|예지|리아|류진|채령|유나|Yeji|Lia|Ryujin|Chaeryeong|Yuna|ITZY BEHIND|ITZY VIDEOS|ITZY DEBUT|있지 데뷔|not shy|ITZY not shy|ITZY TEASER|있지 티저|not shy 티저|있지 뮤비 티저|not shy 뮤비 티저|ITZY MV TEASER|ITZY MV|M/V|TEASER|있지 컴백|ITZY COMEBACK|not shy MV|낫샤이 뮤비|낫샤이|not shy opening trailer|opening trailer', view_count='6000070', likes='714310', dislikes='15176', comment_count='31040', thumbnail_link='https://i.ytimg.com/vi/jbGRowa5tIk/default.jpg', comments_disabled='False', ratings_disabled='False', description='ITZY Not Shy M/V[ITZY Official] https://www.youtube.com/c/ITZYhttps://www.instagram.com/itzy.all.in.us/http://www.twitter.com/ITZYOfficialhttp://www.facebook.com/OfficialITZYhttp://ITZY.jype.comhttp://fans.jype.com/ITZY#ITZY #NotShy #ITZY_NotShyCopyrights 2020 ⓒ JYP Entertainment. All Rights Reserved', kind='youtube#videoCategoryListResponse', etag='kBCr3I9kLHHU79W4Ip5196LDptI', item_etag='HCjFMARbBeWjpm6PDfReCOMOZGA', title='Music', assignable=True, channelId='UCBR8-60-B28hp2BmDPdntcQ'),\n",
       " Row(categoryId='22', country='BR', video_id='3EfkCrXKZNs', title='Oh Juliana PARÓDIA - MC Niack', publishedAt='2020-08-10T14:59:00Z', channelId='UCoXZmVma073v5G1cW82UKkA', channelTitle='As Irmãs Mota', trending_date='2020-08-12T00:00:00Z', tags='OH JULIANA PARÓDIA|MC Niack PARÓDIA|PARÓDIAS|AS IRMÃS MOTA|IRMÃS MOTA PARÓDIAS|PARÓDIA OH JULIANA|PARÓDIA JULIANA', view_count='2296748', likes='39761', dislikes='5484', comment_count='0', thumbnail_link='https://i.ytimg.com/vi/3EfkCrXKZNs/default.jpg', comments_disabled='True', ratings_disabled='False', description='Se inscrevam meus amores! 📬 Quer nos mandar algo? 📨📦🛍📬Essa é nossa caixa postal:CAIXA POSTAL: 07CEP: 39.400.970MONTES CLAROS/MGAG. Central dos Correios de Montes Claros/MG.* coloque o nome pra quem deseja mandar.. Núbia, Camily ou Rodrigo MotaINSTAGRAM:  @nubiabinhaa e @camilymottaa EMAIL COMERCIAL: nubiamota@yahoo.com.brBjinhos..😚❤', kind='youtube#videoCategoryListResponse', etag='kBCr3I9kLHHU79W4Ip5196LDptI', item_etag='QMEBz6mxVdklVaq8JwesPEw_4nI', title='People & Blogs', assignable=True, channelId='UCBR8-60-B28hp2BmDPdntcQ')]"
      ]
     },
     "execution_count": 129,
     "metadata": {},
     "output_type": "execute_result"
    }
   ],
   "source": [
    "df.head(3)"
   ]
  }
 ],
 "metadata": {
  "kernelspec": {
   "display_name": "PySpark",
   "language": "python",
   "name": "pyspark"
  },
  "language_info": {
   "codemirror_mode": {
    "name": "ipython",
    "version": 3
   },
   "file_extension": ".py",
   "mimetype": "text/x-python",
   "name": "python",
   "nbconvert_exporter": "python",
   "pygments_lexer": "ipython3",
   "version": "3.6.10"
  }
 },
 "nbformat": 4,
 "nbformat_minor": 2
}
